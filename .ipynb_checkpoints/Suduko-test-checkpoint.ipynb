{
 "cells": [
  {
   "cell_type": "code",
   "execution_count": 264,
   "metadata": {
    "collapsed": true
   },
   "outputs": [],
   "source": [
    "from utils import *\n",
    "\n",
    "def reduce(values):\n",
    "    try:\n",
    "        solved_values = [box for box in values.keys() if len(values[box]) == 1]\n",
    "    except AttributeError: \n",
    "        return print('irreducable')\n",
    "    a1 = len([i for i in values.values() if len(i)==1])\n",
    "    for box in solved_values:\n",
    "        digit = values[box]\n",
    "        for peer in peers[box]:\n",
    "            values[peer] = values[peer].replace(digit,'')\n",
    "    a2 = len([i for i in values.values() if len(i)==1])\n",
    "    if a2 > a1: reduce(values)\n",
    "    return values\n",
    "\n",
    "def naked_twins(values):\n",
    "    solved_values = [box for box in values.keys() if len(values[box]) == 2]\n",
    "    a1 = len([i for i in values.values() if len(i)==2])\n",
    "    for box in solved_values:\n",
    "        peers_dict = {k:values[k] for k in tuple(peers[box]) if k in values}\n",
    "        if values[box] in peers_dict.values():\n",
    "        #if sum( x == values[box] for x in values.values() )\n",
    "            for peer in peers[box]:\n",
    "                if len(values[peer])>=3:\n",
    "                    for digit in values[box]:\n",
    "                        if digit in values[peer]:\n",
    "                            values[peer] = values[peer].replace(digit,'')  \n",
    "    return values\n",
    "\n",
    "def reduce_puzzle(values):\n",
    "    import copy\n",
    "    X = True\n",
    "    while X:\n",
    "        values = reduce(values)\n",
    "        values_t = copy.deepcopy(values)\n",
    "        values_t = naked_twins(values)\n",
    "        if values_t == values:\n",
    "            X = False\n",
    "        else:\n",
    "            values = values_t\n",
    "    return values\n",
    "    \n",
    "layer = 1            \n",
    "puzzle_dict = {}\n",
    "puzzle = {}\n",
    "s = {}\n",
    "def search(values):\n",
    "    \"Using depth-first search and propagation, create a search tree and solve the sudoku.\"\n",
    "    # First, reduce the puzzle using the previous function\n",
    "    \n",
    "    # Choose one of the unfilled squares with the fewest possibilities\n",
    "    \n",
    "    # Now use recursion to solve each one of the resulting sudokus, and if one returns a value (not False), return that answer!\n",
    "\n",
    "    # If you're stuck, see the solution.py tab!\n",
    "    ########################################\n",
    "    \n",
    "    # reduce the puzzle and copy unreduced version of the puzzle in case the puzzle is wrong and irreducable\n",
    "    \n",
    "    global puzzle_dict, puzzle, x, p, s, layer\n",
    "    import copy\n",
    "    \n",
    "    values_u = copy.deepcopy(values)\n",
    "    values = reduce_puzzle(values)\n",
    "    \n",
    "    if '' in values.values():\n",
    "        values = copy.deepcopy(values_u)\n",
    "        return values\n",
    "        \n",
    "    # check if the puzzle is solved\n",
    "    minimum_keys = [key for key in values.keys() if len(values[key])==1]\n",
    "    if (len(minimum_keys)==81):\n",
    "        x = False\n",
    "        print('solved')\n",
    "        display(values)\n",
    "        return x \n",
    "    \n",
    "    # knowing the puzzle is not solved find the boxes with most constraints\n",
    "    i=1\n",
    "    minimum_keys = []\n",
    "    while minimum_keys == []:\n",
    "        i+=1\n",
    "        minimum_keys = [key for key in values.keys() if len(values[key])==i]\n",
    "        #print('number of keys with', i, 'constraints is:', len(minimum_keys))\n",
    "\n",
    "    \n",
    "    for search_key in minimum_keys:\n",
    "        values_return = copy.deepcopy(values)\n",
    "        s[layer] = copy.deepcopy(values)\n",
    "\n",
    "        for itr in s[layer][search_key]:\n",
    "            s[layer][search_key] = itr\n",
    "            s[layer] = reduce_puzzle(s[layer])\n",
    "            puzzle_length = ''\n",
    "            for string in s[layer].values(): puzzle_length+=string\n",
    "            \n",
    "            if '' in s[layer].values():\n",
    "                s[layer] = copy.deepcopy(values_return)\n",
    "            elif len(puzzle_length) == 81:\n",
    "                print ('success')\n",
    "                display(s[layer])\n",
    "                return\n",
    "            else:\n",
    "                layer+=1\n",
    "                search(s[layer-1])\n",
    "        layer -= 1\n",
    "        values = copy.deepcopy(s[layer])\n",
    "    return "
   ]
  },
  {
   "cell_type": "code",
   "execution_count": 265,
   "metadata": {
    "scrolled": true
   },
   "outputs": [
    {
     "ename": "KeyError",
     "evalue": "0",
     "output_type": "error",
     "traceback": [
      "\u001b[0;31m---------------------------------------------------------------------------\u001b[0m",
      "\u001b[0;31mKeyError\u001b[0m                                  Traceback (most recent call last)",
      "\u001b[0;32m<ipython-input-265-4da262a698c2>\u001b[0m in \u001b[0;36m<module>\u001b[0;34m()\u001b[0m\n\u001b[1;32m      5\u001b[0m \u001b[0mgrid2\u001b[0m \u001b[0;34m=\u001b[0m \u001b[0;34m'4.....8.5.3..........7......2.....6.....8.4......1.......6.3.7.5..2.....1.4......'\u001b[0m\u001b[0;34m\u001b[0m\u001b[0m\n\u001b[1;32m      6\u001b[0m \u001b[0mvalues\u001b[0m \u001b[0;34m=\u001b[0m \u001b[0mgrid_values\u001b[0m\u001b[0;34m(\u001b[0m\u001b[0mgrid2\u001b[0m\u001b[0;34m)\u001b[0m\u001b[0;34m\u001b[0m\u001b[0m\n\u001b[0;32m----> 7\u001b[0;31m \u001b[0msearch\u001b[0m\u001b[0;34m(\u001b[0m\u001b[0mvalues\u001b[0m\u001b[0;34m)\u001b[0m\u001b[0;34m\u001b[0m\u001b[0m\n\u001b[0m",
      "\u001b[0;32m<ipython-input-264-305ff15cf5b7>\u001b[0m in \u001b[0;36msearch\u001b[0;34m(values)\u001b[0m\n\u001b[1;32m    104\u001b[0m             \u001b[0;32melse\u001b[0m\u001b[0;34m:\u001b[0m\u001b[0;34m\u001b[0m\u001b[0m\n\u001b[1;32m    105\u001b[0m                 \u001b[0mlayer\u001b[0m\u001b[0;34m+=\u001b[0m\u001b[0;36m1\u001b[0m\u001b[0;34m\u001b[0m\u001b[0m\n\u001b[0;32m--> 106\u001b[0;31m                 \u001b[0msearch\u001b[0m\u001b[0;34m(\u001b[0m\u001b[0ms\u001b[0m\u001b[0;34m[\u001b[0m\u001b[0mlayer\u001b[0m\u001b[0;34m-\u001b[0m\u001b[0;36m1\u001b[0m\u001b[0;34m]\u001b[0m\u001b[0;34m)\u001b[0m\u001b[0;34m\u001b[0m\u001b[0m\n\u001b[0m\u001b[1;32m    107\u001b[0m         \u001b[0mlayer\u001b[0m \u001b[0;34m-=\u001b[0m \u001b[0;36m1\u001b[0m\u001b[0;34m\u001b[0m\u001b[0m\n\u001b[1;32m    108\u001b[0m         \u001b[0mvalues\u001b[0m \u001b[0;34m=\u001b[0m \u001b[0mcopy\u001b[0m\u001b[0;34m.\u001b[0m\u001b[0mdeepcopy\u001b[0m\u001b[0;34m(\u001b[0m\u001b[0ms\u001b[0m\u001b[0;34m[\u001b[0m\u001b[0mlayer\u001b[0m\u001b[0;34m]\u001b[0m\u001b[0;34m)\u001b[0m\u001b[0;34m\u001b[0m\u001b[0m\n",
      "\u001b[0;32m<ipython-input-264-305ff15cf5b7>\u001b[0m in \u001b[0;36msearch\u001b[0;34m(values)\u001b[0m\n\u001b[1;32m    104\u001b[0m             \u001b[0;32melse\u001b[0m\u001b[0;34m:\u001b[0m\u001b[0;34m\u001b[0m\u001b[0m\n\u001b[1;32m    105\u001b[0m                 \u001b[0mlayer\u001b[0m\u001b[0;34m+=\u001b[0m\u001b[0;36m1\u001b[0m\u001b[0;34m\u001b[0m\u001b[0m\n\u001b[0;32m--> 106\u001b[0;31m                 \u001b[0msearch\u001b[0m\u001b[0;34m(\u001b[0m\u001b[0ms\u001b[0m\u001b[0;34m[\u001b[0m\u001b[0mlayer\u001b[0m\u001b[0;34m-\u001b[0m\u001b[0;36m1\u001b[0m\u001b[0;34m]\u001b[0m\u001b[0;34m)\u001b[0m\u001b[0;34m\u001b[0m\u001b[0m\n\u001b[0m\u001b[1;32m    107\u001b[0m         \u001b[0mlayer\u001b[0m \u001b[0;34m-=\u001b[0m \u001b[0;36m1\u001b[0m\u001b[0;34m\u001b[0m\u001b[0m\n\u001b[1;32m    108\u001b[0m         \u001b[0mvalues\u001b[0m \u001b[0;34m=\u001b[0m \u001b[0mcopy\u001b[0m\u001b[0;34m.\u001b[0m\u001b[0mdeepcopy\u001b[0m\u001b[0;34m(\u001b[0m\u001b[0ms\u001b[0m\u001b[0;34m[\u001b[0m\u001b[0mlayer\u001b[0m\u001b[0;34m]\u001b[0m\u001b[0;34m)\u001b[0m\u001b[0;34m\u001b[0m\u001b[0m\n",
      "\u001b[0;32m<ipython-input-264-305ff15cf5b7>\u001b[0m in \u001b[0;36msearch\u001b[0;34m(values)\u001b[0m\n\u001b[1;32m    106\u001b[0m                 \u001b[0msearch\u001b[0m\u001b[0;34m(\u001b[0m\u001b[0ms\u001b[0m\u001b[0;34m[\u001b[0m\u001b[0mlayer\u001b[0m\u001b[0;34m-\u001b[0m\u001b[0;36m1\u001b[0m\u001b[0;34m]\u001b[0m\u001b[0;34m)\u001b[0m\u001b[0;34m\u001b[0m\u001b[0m\n\u001b[1;32m    107\u001b[0m         \u001b[0mlayer\u001b[0m \u001b[0;34m-=\u001b[0m \u001b[0;36m1\u001b[0m\u001b[0;34m\u001b[0m\u001b[0m\n\u001b[0;32m--> 108\u001b[0;31m         \u001b[0mvalues\u001b[0m \u001b[0;34m=\u001b[0m \u001b[0mcopy\u001b[0m\u001b[0;34m.\u001b[0m\u001b[0mdeepcopy\u001b[0m\u001b[0;34m(\u001b[0m\u001b[0ms\u001b[0m\u001b[0;34m[\u001b[0m\u001b[0mlayer\u001b[0m\u001b[0;34m]\u001b[0m\u001b[0;34m)\u001b[0m\u001b[0;34m\u001b[0m\u001b[0m\n\u001b[0m\u001b[1;32m    109\u001b[0m     \u001b[0;32mreturn\u001b[0m\u001b[0;34m\u001b[0m\u001b[0m\n",
      "\u001b[0;31mKeyError\u001b[0m: 0"
     ]
    }
   ],
   "source": [
    "import sys\n",
    "sys.setrecursionlimit(1000)\n",
    "\n",
    "#grid2 = '..3.2.6..9..3.5..1..18.64....81.29..7.......8..67.82....26.95..8..2.3..9..5.1.3..'\n",
    "grid2 = '4.....8.5.3..........7......2.....6.....8.4......1.......6.3.7.5..2.....1.4......'\n",
    "values = grid_values(grid2)\n",
    "search(values)"
   ]
  },
  {
   "cell_type": "code",
   "execution_count": 246,
   "metadata": {},
   "outputs": [
    {
     "name": "stdout",
     "output_type": "stream",
     "text": [
      "    4     123456789 123456789 |123456789 123456789 123456789 |    8     123456789     5     \n",
      "123456789     3     123456789 |123456789 123456789 123456789 |123456789 123456789 123456789 \n",
      "123456789 123456789 123456789 |    7     123456789 123456789 |123456789 123456789 123456789 \n",
      "------------------------------+------------------------------+------------------------------\n",
      "123456789     2     123456789 |123456789 123456789 123456789 |123456789     6     123456789 \n",
      "123456789 123456789 123456789 |123456789     8     123456789 |    4     123456789 123456789 \n",
      "123456789 123456789 123456789 |123456789     1     123456789 |123456789 123456789 123456789 \n",
      "------------------------------+------------------------------+------------------------------\n",
      "123456789 123456789 123456789 |    6     123456789     3     |123456789     7     123456789 \n",
      "    5     123456789 123456789 |    2     123456789 123456789 |123456789 123456789 123456789 \n",
      "    1     123456789     4     |123456789 123456789 123456789 |123456789 123456789 123456789 \n"
     ]
    }
   ],
   "source": [
    "#grid2 = '1.4.9..68956.18.34..84.695151.....868..6...1264..8..97781923645495.6.823.6.854179'\n",
    "grid2 = '4.....8.5.3..........7......2.....6.....8.4......1.......6.3.7.5..2.....1.4......'\n",
    "values = grid_values(grid2)\n",
    "display(values)"
   ]
  },
  {
   "cell_type": "code",
   "execution_count": null,
   "metadata": {},
   "outputs": [],
   "source": []
  },
  {
   "cell_type": "code",
   "execution_count": 251,
   "metadata": {},
   "outputs": [
    {
     "name": "stdout",
     "output_type": "stream",
     "text": [
      "  1   237   4  | 2357  9   257 |  27   6    8  \n",
      "  9    5    6  |  27   1    8  |  27   3    4  \n",
      "  23  237   8  |  4    37   6  |  9    5    1  \n",
      "---------------+---------------+---------------\n",
      "  5    1   2379| 237  347  279 |  34   8    6  \n",
      "  8    37  379 |  6   347  579 | 345   1    2  \n",
      "  6    4    23 | 1235  8   125 |  35   9    7  \n",
      "---------------+---------------+---------------\n",
      "  7    8    1  |  9    2    3  |  6    4    5  \n",
      "  4    9    5  |  17   6    17 |  8    2    3  \n",
      "  23   6    23 |  8    5    4  |  1    7    9  \n"
     ]
    }
   ],
   "source": [
    "grid2 = '1.4.9..68956.18.34..84.695151.....868..6...1264..8..97781923645495.6.823.6.854179'\n",
    "values = grid_values(grid2)\n",
    "reduce(values)\n",
    "display(values)\n",
    "def Naked_Twins(values):\n",
    "    solved_values = [box for box in values.keys() if len(values[box]) == 2]\n",
    "    a1 = len([i for i in values.values() if len(i)==2])\n",
    "    print(solved_values)\n",
    "    for box in solved_values:\n",
    "        peers_dict = {k:values[k] for k in tuple(peers[box]) if k in values}\n",
    "        if values[box] in peers_dict.values():\n",
    "        #if sum( x == values[box] for x in values.values() )\n",
    "            for peer in peers[box]:\n",
    "                if len(values[peer])>=3:\n",
    "                    for digit in values[box]:\n",
    "                        if digit in values[peer]:\n",
    "                            values[peer] = values[peer].replace(digit,'')  \n",
    "\n",
    "#for box in solved_values:\n",
    "#    digit = values[box]\n",
    "#    for peer in peers[box]:\n",
    "#        values[peer] = values[peer].replace(digit,'')\n",
    "#a2 = len([i for i in values.values() if len(i)==1])\n",
    "#if a2 > a1: reduce(values)\n",
    "#return values"
   ]
  },
  {
   "cell_type": "code",
   "execution_count": 254,
   "metadata": {},
   "outputs": [
    {
     "name": "stdout",
     "output_type": "stream",
     "text": [
      "['A7', 'B4', 'B7']\n",
      " 1  3  4 |    9  5 | 27 6  8 \n",
      " 9  5  6 | 27 1  8 | 27 3  4 \n",
      " 2  7  8 | 4  3  6 | 9  5  1 \n",
      "---------+---------+---------\n",
      " 5  1  9 | 3  7  2 | 4  8  6 \n",
      " 8     7 | 6  4  9 | 5  1  2 \n",
      " 6  4    | 5  8  1 | 3  9  7 \n",
      "---------+---------+---------\n",
      " 7  8  1 | 9  2  3 | 6  4  5 \n",
      " 4  9  5 | 1  6  7 | 8  2  3 \n",
      " 3  6  2 | 8  5  4 | 1  7  9 \n"
     ]
    }
   ],
   "source": [
    "reduce_puzzle(values)\n",
    "display(values)"
   ]
  },
  {
   "cell_type": "code",
   "execution_count": 249,
   "metadata": {},
   "outputs": [
    {
     "name": "stdout",
     "output_type": "stream",
     "text": [
      "['G1', 'G3']\n"
     ]
    }
   ],
   "source": [
    "values['G2'] = '8'\n",
    "values = reduce_puzzle(values)"
   ]
  },
  {
   "cell_type": "code",
   "execution_count": 258,
   "metadata": {},
   "outputs": [],
   "source": [
    "grid2 = '..3.2.6..9..3.5..1..18.64....81.29..7.......8..67.82....26.95..8..2.3..9..5.1.3..'\n",
    "values = grid_values(grid2)"
   ]
  }
 ],
 "metadata": {
  "kernelspec": {
   "display_name": "Python 3",
   "language": "python",
   "name": "python3"
  },
  "language_info": {
   "codemirror_mode": {
    "name": "ipython",
    "version": 3
   },
   "file_extension": ".py",
   "mimetype": "text/x-python",
   "name": "python",
   "nbconvert_exporter": "python",
   "pygments_lexer": "ipython3",
   "version": "3.6.3"
  }
 },
 "nbformat": 4,
 "nbformat_minor": 2
}
