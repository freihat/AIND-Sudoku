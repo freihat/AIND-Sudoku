{
 "cells": [
  {
   "cell_type": "code",
   "execution_count": 11,
   "metadata": {
    "collapsed": true
   },
   "outputs": [],
   "source": [
    "from utils import *\n",
    "\n",
    "def reduce(values):\n",
    "\n",
    "    try:\n",
    "        solved_values = [box for box in values.keys() if len(values[box]) == 1]\n",
    "    except AttributeError: \n",
    "        return print('irreducable')\n",
    "    a1 = len([i for i in values.values() if len(i)==1])\n",
    "    for box in solved_values:\n",
    "        digit = values[box]\n",
    "        for peer in peers[box]:\n",
    "            values[peer] = values[peer].replace(digit,'')\n",
    "    a2 = len([i for i in values.values() if len(i)==1])\n",
    "    if a2 > a1: reduce(values)\n",
    "    return values\n",
    "\n",
    "values_dict = {}\n",
    "def search(values):\n",
    "    \"Using depth-first search and propagation, create a search tree and solve the sudoku.\"\n",
    "    # First, reduce the puzzle using the previous function\n",
    "    \n",
    "    # Choose one of the unfilled squares with the fewest possibilities\n",
    "    \n",
    "    # Now use recursion to solve each one of the resulting sudokus, and if one returns a value (not False), return that answer!\n",
    "\n",
    "    # If you're stuck, see the solution.py tab!\n",
    "    ########################################\n",
    "    \n",
    "    # reduce the puzzle and copy unreduced version of the puzzlue in case the puzzle is wrong and irreducable\n",
    "    \n",
    "    global values_dict, x\n",
    "    import copy\n",
    "    values_un = copy.deepcopy(values) \n",
    "    values = reduce(values)\n",
    "\n",
    "    \n",
    "    #print('\\n\\n The Puzzle After Reduction:')\n",
    "    #display(values)\n",
    "    # check if the puzzle is solved\n",
    "    minimum_keys = [key for key in values.keys() if len(values[key])==1]\n",
    "    if (len(minimum_keys)==81):\n",
    "        x = False\n",
    "        print('solved')\n",
    "        display(values)\n",
    "        return x \n",
    "    \n",
    "    # knowing the puzzle is not solved find the boxes with most constraints\n",
    "    i=1\n",
    "    minimum_keys = []\n",
    "    while minimum_keys == []:\n",
    "        i+=1\n",
    "        minimum_keys = [key for key in values.keys() if len(values[key])==i]\n",
    "        #print('number of keys with', i, 'constraints is:', len(minimum_keys))\n",
    "\n",
    "    \n",
    "    for search_key in minimum_keys:\n",
    "        values_dict[search_key] = copy.deepcopy(values)\n",
    "        print('search key is: ', search_key)\n",
    "        s = values_dict[search_key]\n",
    "        display(s)\n",
    "        for itr in values[search_key]:\n",
    "            s[search_key] = itr\n",
    "            #print('search key is =:',search_key, ' and its value is: ', itr)\n",
    "            val_length = ''\n",
    "            for string in s.values(): val_length+=string\n",
    "            #print('\\nvalues length = ', len(val_length))\n",
    "            \n",
    "            # check if we failed to solve after reduction, if that happened return the unreduced puzzle\n",
    "            if '' in s.values():\n",
    "                #print('\\nfail fail fail fail fail fail fail check out the failed puzzle:\\n')\n",
    "                #display(values)\n",
    "                values_dict[search_key] = values_un\n",
    "                #print('\\n\\nnow we will search the unreduced ')\n",
    "            # check if we succeeded other wise continue execution\n",
    "            elif len(val_length) == 81:\n",
    "                print ('success')\n",
    "                x = False\n",
    "                display(values)\n",
    "                return x\n",
    "            else:\n",
    "                print ('continue')\n",
    "                #display(s)\n",
    "                #values = values_dict[search_key]\n",
    "                #print('\\nThe values in dictionary for: ',search_key, 'is:\\n ')\n",
    "                #display(s)\n",
    "                search(s)\n",
    "        \n",
    "    return"
   ]
  },
  {
   "cell_type": "code",
   "execution_count": 13,
   "metadata": {
    "scrolled": false
   },
   "outputs": [
    {
     "name": "stdout",
     "output_type": "stream",
     "text": [
      "solved\n",
      "4 8 3 |9 2 1 |6 5 7 \n",
      "9 6 7 |3 4 5 |8 2 1 \n",
      "2 5 1 |8 7 6 |4 9 3 \n",
      "------+------+------\n",
      "5 4 8 |1 3 2 |9 7 6 \n",
      "7 2 9 |5 6 4 |1 3 8 \n",
      "1 3 6 |7 9 8 |2 4 5 \n",
      "------+------+------\n",
      "3 7 2 |6 8 9 |5 1 4 \n",
      "8 1 4 |2 5 3 |7 6 9 \n",
      "6 9 5 |4 1 7 |3 8 2 \n"
     ]
    }
   ],
   "source": [
    "import sys\n",
    "sys.setrecursionlimit(1000)\n",
    "x = True\n",
    "while x:\n",
    "    grid2 = '..3.2.6..9..3.5..1..18.64....81.29..7.......8..67.82....26.95..8..2.3..9..5.1.3..'\n",
    "    #grid2 = '4.....8.5.3..........7......2.....6.....8.4......1.......6.3.7.5..2.....1.4......'\n",
    "    values = grid_values(grid2)\n",
    "    search(values)"
   ]
  },
  {
   "cell_type": "code",
   "execution_count": 26,
   "metadata": {
    "scrolled": true
   },
   "outputs": [
    {
     "name": "stdout",
     "output_type": "stream",
     "text": [
      "4 8 3 |9 2 1 |6 5 7 \n",
      "9 6 7 |3 4 5 |8 2 1 \n",
      "2 5 1 |8 7 6 |4 9 3 \n",
      "------+------+------\n",
      "5 4 8 |1 3 2 |9 7 6 \n",
      "7 2 9 |5 6 4 |1 3 8 \n",
      "1 3 6 |7 9 8 |2 4 5 \n",
      "------+------+------\n",
      "3 7 2 |6 8 9 |5 1 4 \n",
      "8 1 4 |2 5 3 |7 6 9 \n",
      "6 9 5 |4 1 7 |3 8 2 \n",
      "\n",
      "\n",
      "dict_keys(['A1', 'A2', 'A3', 'A4', 'A5', 'A6', 'A7', 'A8', 'A9', 'B1', 'B2', 'B3', 'B4', 'B5', 'B6', 'B7', 'B8', 'B9', 'C1', 'C2', 'C3', 'C4', 'C5', 'C6', 'C7', 'C8', 'C9', 'D1', 'D2', 'D3', 'D4', 'D5', 'D6', 'D7', 'D8', 'D9', 'E1', 'E2', 'E3', 'E4', 'E5', 'E6', 'E7', 'E8', 'E9', 'F1', 'F2', 'F3', 'F4', 'F5', 'F6', 'F7', 'F8', 'F9', 'G1', 'G2', 'G3', 'G4', 'G5', 'G6', 'G7', 'G8', 'G9', 'H1', 'H2', 'H3', 'H4', 'H5', 'H6', 'H7', 'H8', 'H9', 'I1', 'I2', 'I3', 'I4', 'I5', 'I6', 'I7', 'I8', 'I9'])\n"
     ]
    }
   ],
   "source": [
    "import copy\n",
    "grid = grid_values(grid2)\n",
    "grid_un = copy.deepcopy(grid)\n",
    "v = reduce(grid)\n",
    "\n",
    "display(grid)\n",
    "print('\\n')\n",
    "#display(v)\n",
    "\n",
    "print(grid.keys())"
   ]
  },
  {
   "cell_type": "code",
   "execution_count": 30,
   "metadata": {},
   "outputs": [
    {
     "name": "stdout",
     "output_type": "stream",
     "text": [
      "yay\n"
     ]
    }
   ],
   "source": [
    "if 'A90' not in grid.keys():\n",
    "    print ('yay')"
   ]
  },
  {
   "cell_type": "code",
   "execution_count": null,
   "metadata": {
    "collapsed": true
   },
   "outputs": [],
   "source": []
  }
 ],
 "metadata": {
  "kernelspec": {
   "display_name": "Python 3",
   "language": "python",
   "name": "python3"
  },
  "language_info": {
   "codemirror_mode": {
    "name": "ipython",
    "version": 3
   },
   "file_extension": ".py",
   "mimetype": "text/x-python",
   "name": "python",
   "nbconvert_exporter": "python",
   "pygments_lexer": "ipython3",
   "version": "3.6.3"
  }
 },
 "nbformat": 4,
 "nbformat_minor": 2
}
