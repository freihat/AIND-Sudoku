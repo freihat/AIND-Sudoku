{
 "cells": [
  {
   "cell_type": "code",
   "execution_count": 50,
   "metadata": {},
   "outputs": [],
   "source": [
    "from utils import *\n",
    "\n",
    "def reduce(values):\n",
    "\n",
    "    try:\n",
    "        solved_values = [box for box in values.keys() if len(values[box]) == 1]\n",
    "    except AttributeError: \n",
    "        return print('irreducable')\n",
    "    a1 = len([i for i in values.values() if len(i)==1])\n",
    "    for box in solved_values:\n",
    "        digit = values[box]\n",
    "        for peer in peers[box]:\n",
    "            values[peer] = values[peer].replace(digit,'')\n",
    "    a2 = len([i for i in values.values() if len(i)==1])\n",
    "    if a2 > a1: reduce(values)\n",
    "    return values\n",
    "\n",
    "def search(values):\n",
    "    \"Using depth-first search and propagation, create a search tree and solve the sudoku.\"\n",
    "    # First, reduce the puzzle using the previous function\n",
    "    \n",
    "    # Choose one of the unfilled squares with the fewest possibilities\n",
    "    \n",
    "    # Now use recursion to solve each one of the resulting sudokus, and if one returns a value (not False), return that answer!\n",
    "\n",
    "    # If you're stuck, see the solution.py tab!\n",
    "    values = reduce(values)\n",
    "    i=2\n",
    "    minimum_keys = []\n",
    "    while minimum_keys == []:\n",
    "        minimum_keys = [key for key in values.keys() if len(values[key])==i]\n",
    "        i+=1\n",
    "    #print(minimum_keys)\n",
    "    import random\n",
    "    search_key = random.choice(minimum_keys)\n",
    "    values[search_key] = random.choice(values[search_key])\n",
    "    print(search_key)\n",
    "\n",
    "    val_length = ''\n",
    "    for string in values.values(): val_length+=string\n",
    "    print('\\nvalues length = ',len(val_length),key)\n",
    "    if '' in values.values():\n",
    "        print('fail')\n",
    "        display(values)\n",
    "        grid2 = '4.....8.5.3..........7......2.....6.....8.4......1.......6.3.7.5..2.....1.4......'\n",
    "        values = grid_values(grid2)\n",
    "        search(values)\n",
    "    elif len(val_length) == 81:\n",
    "        print ('success')\n",
    "        return display(values)\n",
    "    else:\n",
    "        display(values)\n",
    "        search(values)\n",
    "        \n",
    "    return"
   ]
  },
  {
   "cell_type": "code",
   "execution_count": 51,
   "metadata": {},
   "outputs": [
    {
     "name": "stdout",
     "output_type": "stream",
     "text": [
      "G2\n"
     ]
    },
    {
     "ename": "NameError",
     "evalue": "name 'key' is not defined",
     "output_type": "error",
     "traceback": [
      "\u001b[0;31m---------------------------------------------------------------------------\u001b[0m",
      "\u001b[0;31mNameError\u001b[0m                                 Traceback (most recent call last)",
      "\u001b[0;32m<ipython-input-51-a0cf6cee1262>\u001b[0m in \u001b[0;36m<module>\u001b[0;34m()\u001b[0m\n\u001b[1;32m      3\u001b[0m \u001b[0mgrid2\u001b[0m \u001b[0;34m=\u001b[0m \u001b[0;34m'4.....8.5.3..........7......2.....6.....8.4......1.......6.3.7.5..2.....1.4......'\u001b[0m\u001b[0;34m\u001b[0m\u001b[0m\n\u001b[1;32m      4\u001b[0m \u001b[0mvalues\u001b[0m \u001b[0;34m=\u001b[0m \u001b[0mgrid_values\u001b[0m\u001b[0;34m(\u001b[0m\u001b[0mgrid2\u001b[0m\u001b[0;34m)\u001b[0m\u001b[0;34m\u001b[0m\u001b[0m\n\u001b[0;32m----> 5\u001b[0;31m \u001b[0msearch\u001b[0m\u001b[0;34m(\u001b[0m\u001b[0mvalues\u001b[0m\u001b[0;34m)\u001b[0m\u001b[0;34m\u001b[0m\u001b[0m\n\u001b[0m",
      "\u001b[0;32m<ipython-input-50-7dc736467a7a>\u001b[0m in \u001b[0;36msearch\u001b[0;34m(values)\u001b[0m\n\u001b[1;32m     39\u001b[0m     \u001b[0mval_length\u001b[0m \u001b[0;34m=\u001b[0m \u001b[0;34m''\u001b[0m\u001b[0;34m\u001b[0m\u001b[0m\n\u001b[1;32m     40\u001b[0m     \u001b[0;32mfor\u001b[0m \u001b[0mstring\u001b[0m \u001b[0;32min\u001b[0m \u001b[0mvalues\u001b[0m\u001b[0;34m.\u001b[0m\u001b[0mvalues\u001b[0m\u001b[0;34m(\u001b[0m\u001b[0;34m)\u001b[0m\u001b[0;34m:\u001b[0m \u001b[0mval_length\u001b[0m\u001b[0;34m+=\u001b[0m\u001b[0mstring\u001b[0m\u001b[0;34m\u001b[0m\u001b[0m\n\u001b[0;32m---> 41\u001b[0;31m     \u001b[0mprint\u001b[0m\u001b[0;34m(\u001b[0m\u001b[0;34m'\\nvalues length = '\u001b[0m\u001b[0;34m,\u001b[0m\u001b[0mlen\u001b[0m\u001b[0;34m(\u001b[0m\u001b[0mval_length\u001b[0m\u001b[0;34m)\u001b[0m\u001b[0;34m,\u001b[0m\u001b[0mkey\u001b[0m\u001b[0;34m)\u001b[0m\u001b[0;34m\u001b[0m\u001b[0m\n\u001b[0m\u001b[1;32m     42\u001b[0m     \u001b[0;32mif\u001b[0m \u001b[0;34m''\u001b[0m \u001b[0;32min\u001b[0m \u001b[0mvalues\u001b[0m\u001b[0;34m.\u001b[0m\u001b[0mvalues\u001b[0m\u001b[0;34m(\u001b[0m\u001b[0;34m)\u001b[0m\u001b[0;34m:\u001b[0m\u001b[0;34m\u001b[0m\u001b[0m\n\u001b[1;32m     43\u001b[0m         \u001b[0mprint\u001b[0m\u001b[0;34m(\u001b[0m\u001b[0;34m'fail'\u001b[0m\u001b[0;34m)\u001b[0m\u001b[0;34m\u001b[0m\u001b[0m\n",
      "\u001b[0;31mNameError\u001b[0m: name 'key' is not defined"
     ]
    }
   ],
   "source": [
    "import sys\n",
    "sys.setrecursionlimit(1000)\n",
    "grid2 = '4.....8.5.3..........7......2.....6.....8.4......1.......6.3.7.5..2.....1.4......'\n",
    "values = grid_values(grid2)\n",
    "search(values)"
   ]
  },
  {
   "cell_type": "code",
   "execution_count": 375,
   "metadata": {},
   "outputs": [
    {
     "name": "stdout",
     "output_type": "stream",
     "text": [
      "G2\n"
     ]
    }
   ],
   "source": [
    "#grid1 = '..3.2.6..9..3.5..1..18.64....81.29..7.......8..67.82....26.95..8..2.3..9..5.1.3..'\n",
    "#values = grid_values(grid1)\n",
    "values = reduce(values)\n",
    "i=2\n",
    "minimum_keys = []\n",
    "while minimum_keys == []:\n",
    "    minimum_keys = [key for key in values.keys() if len(values[key])==i]\n",
    "    i+=1\n",
    "#print(minimum_keys)\n",
    "import random\n",
    "search_key = random.choice(minimum_keys)\n",
    "for digits in values[search_key]:\n",
    "    values[search_key] = digits\n",
    "#print(search_key)\n",
    "\n",
    "\n",
    "# check if the puzzle is completed\n",
    "#val_length = ''\n",
    "#for i in values.values(): val_length+=i\n",
    "#len(val_length)    "
   ]
  },
  {
   "cell_type": "code",
   "execution_count": 376,
   "metadata": {},
   "outputs": [
    {
     "name": "stdout",
     "output_type": "stream",
     "text": [
      "   4      1679   12679  |  139     2369    1269  |   8      1239     5    \n",
      " 26789     3    1256789 | 14589   24569  1245689 | 12679    1249   124679 \n",
      "  2689   15689   125689 |   7     234569 1245689 | 12369   12349   123469 \n",
      "------------------------+------------------------+------------------------\n",
      "  3789     2     135789 |  3459   34579    4579  | 13579     6     13789  \n",
      "  3679   15679   135679 |  359      8     25679  |   4     12359   12379  \n",
      " 36789   456789  356789 |  3459     1     245679 | 23579   23589   23789  \n",
      "------------------------+------------------------+------------------------\n",
      "  289      9      289   |   6      459      3    |  1259     7     12489  \n",
      "   5      6789   36789  |   2      479    14789  |  1369   13489   134689 \n",
      "   1      6789     4    |  589     579     5789  | 23569   23589   23689  \n",
      "\n",
      "\n",
      "   4      167    12679  |  139     2369    1269  |   8      1239     5    \n",
      " 26789     3    1256789 | 14589   24569  1245689 | 12679    1249   124679 \n",
      "  2689    1568   125689 |   7     234569 1245689 | 12369   12349   123469 \n",
      "------------------------+------------------------+------------------------\n",
      "  3789     2     135789 |  3459   34579    4579  | 13579     6     13789  \n",
      "  3679    1567   135679 |  359      8     25679  |   4     12359   12379  \n",
      " 36789   45678   356789 |  3459     1     245679 | 23579   23589   23789  \n",
      "------------------------+------------------------+------------------------\n",
      "   28      9       28   |   6       45      3    |  125      7      1248  \n",
      "   5      678     3678  |   2      479    14789  |  1369   13489   134689 \n",
      "   1      678      4    |  589     579     5789  | 23569   23589   23689  \n"
     ]
    }
   ],
   "source": [
    "display(values)\n",
    "print('\\n')\n",
    "display(reduce(values))"
   ]
  },
  {
   "cell_type": "code",
   "execution_count": 373,
   "metadata": {},
   "outputs": [
    {
     "name": "stdout",
     "output_type": "stream",
     "text": [
      "fail\n",
      "fail\n"
     ]
    },
    {
     "data": {
      "text/plain": [
       "206"
      ]
     },
     "execution_count": 373,
     "metadata": {},
     "output_type": "execute_result"
    }
   ],
   "source": []
  },
  {
   "cell_type": "code",
   "execution_count": 27,
   "metadata": {},
   "outputs": [
    {
     "name": "stdout",
     "output_type": "stream",
     "text": [
      "4 1 7 |9 6 2 |8 3 5 \n",
      "2 3 9 |1   5 |7 4 6 \n",
      "6 8 5 |7 3 4 |9 1 2 \n",
      "------+------+------\n",
      "3 2 8 |4 7 9 |5 6 1 \n",
      "9 5 1 |3 8 6 |4 2 7 \n",
      "7 4 6 |5 1   |3 8 9 \n",
      "------+------+------\n",
      "8 9 2 |6 5 3 |1 7 4 \n",
      "5 7 3 |2 4 1 |6 9 8 \n",
      "1 6 4 |8 9 7 |2 5 3 \n"
     ]
    }
   ],
   "source": [
    "display(values)"
   ]
  },
  {
   "cell_type": "code",
   "execution_count": 28,
   "metadata": {},
   "outputs": [
    {
     "data": {
      "text/plain": [
       "True"
      ]
     },
     "execution_count": 28,
     "metadata": {},
     "output_type": "execute_result"
    }
   ],
   "source": []
  },
  {
   "cell_type": "code",
   "execution_count": null,
   "metadata": {
    "collapsed": true
   },
   "outputs": [],
   "source": []
  }
 ],
 "metadata": {
  "kernelspec": {
   "display_name": "Python 3",
   "language": "python",
   "name": "python3"
  },
  "language_info": {
   "codemirror_mode": {
    "name": "ipython",
    "version": 3
   },
   "file_extension": ".py",
   "mimetype": "text/x-python",
   "name": "python",
   "nbconvert_exporter": "python",
   "pygments_lexer": "ipython3",
   "version": "3.6.3"
  }
 },
 "nbformat": 4,
 "nbformat_minor": 2
}
